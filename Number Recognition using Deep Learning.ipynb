{
 "cells": [
  {
   "cell_type": "markdown",
   "id": "ae8fb5fa",
   "metadata": {},
   "source": [
    "# Handwritten Number Recognition using Deep Learning\n",
    "\n",
    "### By : Shivam Chaudhary"
   ]
  },
  {
   "cell_type": "code",
   "execution_count": 44,
   "id": "6c5a4e32",
   "metadata": {},
   "outputs": [],
   "source": [
    "# import libraries\n",
    "\n",
    "from keras.layers import Dense,Flatten\n",
    "from keras.models import Sequential\n",
    "from keras.utils import to_categorical\n",
    "from keras.datasets import mnist\n",
    "from keras import utils\n",
    "import keras\n",
    "import pydotplus\n",
    "from tensorflow.keras.utils import plot_model\n",
    "import matplotlib.pyplot as plt\n",
    "import numpy as np\n",
    "\n",
    "import warnings \n",
    "warnings.filterwarnings('ignore')"
   ]
  },
  {
   "cell_type": "code",
   "execution_count": 2,
   "id": "ec01f690",
   "metadata": {},
   "outputs": [],
   "source": [
    "# load mnist dataset\n",
    "\n",
    "(x_train,y_train), (x_test,y_test) = mnist.load_data()"
   ]
  },
  {
   "cell_type": "code",
   "execution_count": 3,
   "id": "6b53cec2",
   "metadata": {},
   "outputs": [
    {
     "name": "stdout",
     "output_type": "stream",
     "text": [
      "x_train shape : (60000, 28, 28)\n",
      "y_train shape : (60000,)\n",
      "x_test shape : (10000, 28, 28)\n",
      "y_test shape : (10000,)\n"
     ]
    }
   ],
   "source": [
    "# shape check\n",
    "\n",
    "dataset = [('x_train',x_train), ('y_train',y_train),('x_test',x_test),('y_test',y_test)]\n",
    "\n",
    "for name, shape in dataset:\n",
    "    print(f'{name} shape : {shape.shape}')"
   ]
  },
  {
   "cell_type": "markdown",
   "id": "f028446c",
   "metadata": {},
   "source": [
    "Here, the training data consists of a set of images containing handwritten numbers, and the test data contains their corresponding values"
   ]
  },
  {
   "cell_type": "code",
   "execution_count": 4,
   "id": "81a3045c",
   "metadata": {},
   "outputs": [
    {
     "data": {
      "image/png": "[encoded data removed]",
      "text/plain": [
       "<Figure size 2000x1000 with 10 Axes>"
      ]
     },
     "metadata": {},
     "output_type": "display_data"
    }
   ],
   "source": [
    "# check images in dataset\n",
    "\n",
    "fig, axis = plt.subplots(ncols=10, sharex=False, sharey=True, figsize=(20,10))\n",
    "\n",
    "for i in range(10):\n",
    "    axis[i].set_title(y_train[i])\n",
    "    axis[i].imshow(x_train[i], cmap='gray')\n",
    "    axis[i].get_xaxis().set_visible(False)\n",
    "    axis[i].get_yaxis().set_visible(False)\n",
    "plt.show()    "
   ]
  },
  {
   "cell_type": "code",
   "execution_count": 5,
   "id": "892d385a",
   "metadata": {},
   "outputs": [
    {
     "name": "stdout",
     "output_type": "stream",
     "text": [
      "Now, the output will look like : [0. 0. 0. 0. 0. 1. 0. 0. 0. 0.]\n",
      "And  Shape of y_train : (60000, 10) \n",
      "     Shape of y_test : (10000, 10)\n"
     ]
    }
   ],
   "source": [
    "# conver labels to categorical\n",
    "\n",
    "y_train = to_categorical(y_train)\n",
    "y_test = to_categorical(y_test)\n",
    "print(f'Now, the output will look like : {y_train[0]}')\n",
    "print(f'And  Shape of y_train : {y_train.shape} \\n     Shape of y_test : {y_test.shape}')"
   ]
  },
  {
   "cell_type": "code",
   "execution_count": 6,
   "id": "711b6e75",
   "metadata": {},
   "outputs": [],
   "source": [
    "# model preparation\n",
    "\n",
    "model = Sequential()                        # In a sequential model all layers are arranged sequentially, one after another.\n",
    "model.add(Flatten(input_shape=(28,28)))     # Flattening flattens the dimensions, so if an array is [1, 2, 3\n",
    "                                            #                                                        4, 5, 6\n",
    "                                            #                                                        7, 8, 9],  \n",
    "                                            # it becomes [1, 2, 3, 4, 5, 6, 7, 8, 9].\n",
    "model.add(Dense(10, activation='sigmoid'))  # This layer has 10 neurons with sigmoid activation function.\n",
    "model.add(Dense(5, activation='sigmoid'))   # This layer has 5 neurons with sigmoid activation function.\n",
    "model.add(Dense(10, activation='softmax'))  # Final layer with 10 neurons and softmax activation function."
   ]
  },
  {
   "cell_type": "code",
   "execution_count": 7,
   "id": "9054cbc4",
   "metadata": {},
   "outputs": [
    {
     "name": "stdout",
     "output_type": "stream",
     "text": [
      "Model: \"sequential\"\n",
      "_________________________________________________________________\n",
      " Layer (type)                Output Shape              Param #   \n",
      "=================================================================\n",
      " flatten (Flatten)           (None, 784)               0         \n",
      "                                                                 \n",
      " dense (Dense)               (None, 10)                7850      \n",
      "                                                                 \n",
      " dense_1 (Dense)             (None, 5)                 55        \n",
      "                                                                 \n",
      " dense_2 (Dense)             (None, 10)                60        \n",
      "                                                                 \n",
      "=================================================================\n",
      "Total params: 7965 (31.11 KB)\n",
      "Trainable params: 7965 (31.11 KB)\n",
      "Non-trainable params: 0 (0.00 Byte)\n",
      "_________________________________________________________________\n"
     ]
    }
   ],
   "source": [
    "# model summary\n",
    "\n",
    "model.summary()"
   ]
  },
  {
   "cell_type": "code",
   "execution_count": 10,
   "id": "5f5d93f9",
   "metadata": {},
   "outputs": [],
   "source": [
    "# compile the model\n",
    "\n",
    "model.compile(loss='categorical_crossentropy', optimizer='adam', metrics=['acc'])"
   ]
  },
  {
   "cell_type": "markdown",
   "id": "7b1620db",
   "metadata": {},
   "source": [
    "Now we have defined the architecture of the model, compiled the model, and now we will train the model."
   ]
  },
  {
   "cell_type": "code",
   "execution_count": 11,
   "id": "5c87d5fa",
   "metadata": {},
   "outputs": [
    {
     "name": "stdout",
     "output_type": "stream",
     "text": [
      "Epoch 1/20\n",
      "1875/1875 [==============================] - 6s 3ms/step - loss: 1.7815 - acc: 0.4195 - val_loss: 1.4030 - val_acc: 0.5620\n",
      "Epoch 2/20\n",
      "1875/1875 [==============================] - 4s 2ms/step - loss: 1.2305 - acc: 0.6107 - val_loss: 1.0988 - val_acc: 0.6398\n",
      "Epoch 3/20\n",
      "1875/1875 [==============================] - 5s 2ms/step - loss: 1.0369 - acc: 0.6610 - val_loss: 0.9530 - val_acc: 0.7214\n",
      "Epoch 4/20\n",
      "1875/1875 [==============================] - 5s 3ms/step - loss: 0.9101 - acc: 0.7041 - val_loss: 0.8542 - val_acc: 0.6962\n",
      "Epoch 5/20\n",
      "1875/1875 [==============================] - 5s 2ms/step - loss: 0.8538 - acc: 0.7176 - val_loss: 0.8281 - val_acc: 0.7350\n",
      "Epoch 6/20\n",
      "1875/1875 [==============================] - 5s 2ms/step - loss: 0.7948 - acc: 0.7513 - val_loss: 0.7327 - val_acc: 0.7740\n",
      "Epoch 7/20\n",
      "1875/1875 [==============================] - 4s 2ms/step - loss: 0.7587 - acc: 0.7609 - val_loss: 0.7145 - val_acc: 0.7898\n",
      "Epoch 8/20\n",
      "1875/1875 [==============================] - 5s 2ms/step - loss: 0.7462 - acc: 0.7630 - val_loss: 0.7010 - val_acc: 0.7818\n",
      "Epoch 9/20\n",
      "1875/1875 [==============================] - 4s 2ms/step - loss: 0.7091 - acc: 0.7788 - val_loss: 0.6542 - val_acc: 0.8045\n",
      "Epoch 10/20\n",
      "1875/1875 [==============================] - 5s 2ms/step - loss: 0.7194 - acc: 0.7810 - val_loss: 0.7536 - val_acc: 0.7758\n",
      "Epoch 11/20\n",
      "1875/1875 [==============================] - 5s 2ms/step - loss: 0.7082 - acc: 0.7892 - val_loss: 0.6604 - val_acc: 0.8066\n",
      "Epoch 12/20\n",
      "1875/1875 [==============================] - 5s 2ms/step - loss: 0.6703 - acc: 0.8015 - val_loss: 0.6514 - val_acc: 0.8145\n",
      "Epoch 13/20\n",
      "1875/1875 [==============================] - 5s 2ms/step - loss: 0.6760 - acc: 0.8010 - val_loss: 0.7090 - val_acc: 0.7774\n",
      "Epoch 14/20\n",
      "1875/1875 [==============================] - 5s 2ms/step - loss: 0.6743 - acc: 0.7948 - val_loss: 0.6273 - val_acc: 0.8137\n",
      "Epoch 15/20\n",
      "1875/1875 [==============================] - 5s 2ms/step - loss: 0.6540 - acc: 0.8171 - val_loss: 0.6282 - val_acc: 0.8281\n",
      "Epoch 16/20\n",
      "1875/1875 [==============================] - 5s 2ms/step - loss: 0.6332 - acc: 0.8281 - val_loss: 0.6179 - val_acc: 0.8328\n",
      "Epoch 17/20\n",
      "1875/1875 [==============================] - 5s 3ms/step - loss: 0.6174 - acc: 0.8402 - val_loss: 0.6184 - val_acc: 0.8491\n",
      "Epoch 18/20\n",
      "1875/1875 [==============================] - 5s 3ms/step - loss: 0.6193 - acc: 0.8346 - val_loss: 0.5686 - val_acc: 0.8532\n",
      "Epoch 19/20\n",
      "1875/1875 [==============================] - 5s 3ms/step - loss: 0.5923 - acc: 0.8464 - val_loss: 0.5872 - val_acc: 0.8484\n",
      "Epoch 20/20\n",
      "1875/1875 [==============================] - 5s 3ms/step - loss: 0.5945 - acc: 0.8366 - val_loss: 0.5871 - val_acc: 0.8378\n"
     ]
    }
   ],
   "source": [
    "# train model\n",
    "\n",
    "history = model.fit(x_train, y_train, epochs=20, validation_data=(x_test,y_test))"
   ]
  },
  {
   "cell_type": "code",
   "execution_count": 16,
   "id": "052af25d",
   "metadata": {},
   "outputs": [],
   "source": [
    "# save model\n",
    "\n",
    "model.save('mnist_model.h5')"
   ]
  },
  {
   "cell_type": "code",
   "execution_count": 17,
   "id": "bac6c508",
   "metadata": {},
   "outputs": [
    {
     "data": {
      "text/plain": [
       "{'loss': [1.7814806699752808,\n",
       "  1.2304965257644653,\n",
       "  1.036900520324707,\n",
       "  0.9100930094718933,\n",
       "  0.8538013100624084,\n",
       "  0.794834554195404,\n",
       "  0.758669376373291,\n",
       "  0.7462491393089294,\n",
       "  0.7090525031089783,\n",
       "  0.7194146513938904,\n",
       "  0.7081533670425415,\n",
       "  0.6702724099159241,\n",
       "  0.6760357022285461,\n",
       "  0.6742721199989319,\n",
       "  0.6539584994316101,\n",
       "  0.6331667900085449,\n",
       "  0.6173763871192932,\n",
       "  0.6193049550056458,\n",
       "  0.5922729969024658,\n",
       "  0.5944661498069763],\n",
       " 'acc': [0.4194999933242798,\n",
       "  0.6106500029563904,\n",
       "  0.6610000133514404,\n",
       "  0.7041000127792358,\n",
       "  0.7176499962806702,\n",
       "  0.7512500286102295,\n",
       "  0.7609333395957947,\n",
       "  0.7630166411399841,\n",
       "  0.7788166403770447,\n",
       "  0.7809666395187378,\n",
       "  0.7892333269119263,\n",
       "  0.8014833331108093,\n",
       "  0.8010166883468628,\n",
       "  0.7947666645050049,\n",
       "  0.8170833587646484,\n",
       "  0.8281333446502686,\n",
       "  0.8401666879653931,\n",
       "  0.8346499800682068,\n",
       "  0.8463500142097473,\n",
       "  0.8366333246231079],\n",
       " 'val_loss': [1.4030143022537231,\n",
       "  1.098753571510315,\n",
       "  0.9529666304588318,\n",
       "  0.8541606664657593,\n",
       "  0.8280506730079651,\n",
       "  0.732736349105835,\n",
       "  0.7145222425460815,\n",
       "  0.7010194063186646,\n",
       "  0.6542381644248962,\n",
       "  0.7535731196403503,\n",
       "  0.6603778004646301,\n",
       "  0.6513830423355103,\n",
       "  0.7090333700180054,\n",
       "  0.6273245215415955,\n",
       "  0.6281566619873047,\n",
       "  0.6178613901138306,\n",
       "  0.6184239387512207,\n",
       "  0.5686269402503967,\n",
       "  0.5872477293014526,\n",
       "  0.5870825052261353],\n",
       " 'val_acc': [0.5619999766349792,\n",
       "  0.6398000121116638,\n",
       "  0.7214000225067139,\n",
       "  0.6962000131607056,\n",
       "  0.7350000143051147,\n",
       "  0.7739999890327454,\n",
       "  0.7897999882698059,\n",
       "  0.7817999720573425,\n",
       "  0.8044999837875366,\n",
       "  0.7757999897003174,\n",
       "  0.8065999746322632,\n",
       "  0.8144999742507935,\n",
       "  0.777400016784668,\n",
       "  0.8137000203132629,\n",
       "  0.8281000256538391,\n",
       "  0.8327999711036682,\n",
       "  0.8490999937057495,\n",
       "  0.8532000184059143,\n",
       "  0.8483999967575073,\n",
       "  0.8378000259399414]}"
      ]
     },
     "execution_count": 17,
     "metadata": {},
     "output_type": "execute_result"
    }
   ],
   "source": [
    "# model history\n",
    "\n",
    "history.history"
   ]
  },
  {
   "cell_type": "code",
   "execution_count": 33,
   "id": "41d0599a",
   "metadata": {},
   "outputs": [
    {
     "data": {
      "image/png": "[encoded data removed]",
      "text/plain": [
       "<Figure size 1100x300 with 2 Axes>"
      ]
     },
     "metadata": {},
     "output_type": "display_data"
    }
   ],
   "source": [
    "# let's see losses and accuracy graphically\n",
    "\n",
    "plt.figure(figsize=(11, 3))\n",
    "\n",
    "plt.subplot(1, 2, 1)\n",
    "plt.plot(history.history['loss'], label='Train Loss')\n",
    "plt.plot(history.history['val_loss'], label='Validation Loss')\n",
    "plt.legend()\n",
    "plt.title('Loss')\n",
    "\n",
    "plt.subplot(1, 2, 2)\n",
    "plt.plot(history.history['acc'], label='Train Accuracy')\n",
    "plt.plot(history.history['val_acc'], label='Validation Accuracy')\n",
    "plt.legend()\n",
    "plt.title('Accuracy')\n",
    "\n",
    "plt.show()\n"
   ]
  },
  {
   "cell_type": "markdown",
   "id": "de61566a",
   "metadata": {},
   "source": [
    "These graphs are close to each other, the model is neither underperforming nor overperforming (underfitting or overfitting)."
   ]
  },
  {
   "cell_type": "code",
   "execution_count": 36,
   "id": "e0d900cf",
   "metadata": {},
   "outputs": [],
   "source": [
    "# load model and check accuracy\n",
    "\n",
    "model = keras.models.load_model('mnist_model.h5')"
   ]
  },
  {
   "cell_type": "code",
   "execution_count": 43,
   "id": "9f4bafa3",
   "metadata": {},
   "outputs": [
    {
     "data": {
      "image/png": "[encoded data removed]",
      "text/plain": [
       "<Figure size 200x200 with 1 Axes>"
      ]
     },
     "metadata": {},
     "output_type": "display_data"
    },
    {
     "name": "stdout",
     "output_type": "stream",
     "text": [
      "Image Dimension/Shape : (28, 28)\n"
     ]
    }
   ],
   "source": [
    "# image to predict\n",
    "\n",
    "plt.figure(figsize=(2, 2))\n",
    "plt.imshow(x_test[0], cmap='gray') \n",
    "plt.axis('off')\n",
    "plt.show()\n",
    "print(f'Image Dimension/Shape : {x_test[0].shape}')"
   ]
  },
  {
   "cell_type": "code",
   "execution_count": 47,
   "id": "6bf8a7ca",
   "metadata": {},
   "outputs": [
    {
     "name": "stdout",
     "output_type": "stream",
     "text": [
      "1/1 [==============================] - 0s 30ms/step\n",
      "The given image has the number \"7\" on it.\n"
     ]
    }
   ],
   "source": [
    "# let's predict this image with model\n",
    "\n",
    "x = np.reshape(x_test[0], (1, 28, 28))\n",
    "predicted_number = np.argmax(model.predict(x))\n",
    "print(f'The given image has the number \"{predicted_number}\" on it.')"
   ]
  },
  {
   "cell_type": "markdown",
   "id": "b75c33b9",
   "metadata": {},
   "source": [
    "                                                         Thanks"
   ]
  }
 ],
 "metadata": {
  "kernelspec": {
   "display_name": "Python 3 (ipykernel)",
   "language": "python",
   "name": "python3"
  },
  "language_info": {
   "codemirror_mode": {
    "name": "ipython",
    "version": 3
   },
   "file_extension": ".py",
   "mimetype": "text/x-python",
   "name": "python",
   "nbconvert_exporter": "python",
   "pygments_lexer": "ipython3",
   "version": "3.10.9"
  }
 },
 "nbformat": 4,
 "nbformat_minor": 5
}
