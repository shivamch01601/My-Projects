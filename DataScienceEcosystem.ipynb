{
 "cells": [
  {
   "cell_type": "markdown",
   "id": "156b788e",
   "metadata": {},
   "source": [
    "# Data Science Tools and Ecosystem"
   ]
  },
  {
   "cell_type": "markdown",
   "id": "f82443d4",
   "metadata": {},
   "source": [
    "**Objectives:**\n",
    "\n",
    "- List popular languages for Data Science.\n",
    "- Introduce commonly used libraries by Data Scientists.\n",
    "- Explore essential Data Science tools.\n",
    "- Provide examples of evaluating arithmetic expressions in Python.\n",
    "- Convert minutes to hours in Python.\n"
   ]
  },
  {
   "cell_type": "markdown",
   "id": "58da1547",
   "metadata": {},
   "source": [
    "## In this notebook, Data Science Tools and Ecosystem are summarized."
   ]
  },
  {
   "cell_type": "markdown",
   "id": "edc9e61c",
   "metadata": {},
   "source": [
    "### Some of the popular languages that Data Scientists use are:\n",
    "\n",
    "Data scientists use a variety of programming languages and tools depending on their specific tasks and preferences. Some of the popular languages that data scientists commonly use include:\n",
    "\n",
    "1. **Python**: Python is perhaps the most popular language for data science. It has a rich ecosystem of libraries and frameworks like NumPy, pandas, scikit-learn, TensorFlow, and PyTorch that make it versatile for data analysis, machine learning, and deep learning tasks.\n",
    "\n",
    "2. **R**: R is a language specifically designed for statistical analysis and data visualization. It's widely used in academic and research settings and has a strong community of statisticians and data scientists.\n",
    "\n",
    "3. **SQL**: SQL (Structured Query Language) is essential for working with relational databases. Data scientists often use SQL to extract, transform, and analyze data stored in databases.\n",
    "\n",
    "4. **Julia**: Julia is an emerging programming language that offers high performance for numerical and scientific computing. It's gaining popularity among data scientists for tasks that require intensive computations.\n",
    "\n",
    "5. **Scala**: Scala is used in conjunction with Apache Spark, a popular big data processing framework. Data scientists often write Spark applications in Scala for large-scale data processing and analysis.\n",
    "\n",
    "6. **Java**: Java is used in various data science applications, particularly in big data processing and building large-scale data pipelines. Libraries like Deeplearning4j also make Java suitable for machine learning tasks.\n",
    "\n",
    "7. **MATLAB**: MATLAB is widely used in academia and industry for numerical analysis and scientific computing. It has a comprehensive set of tools for data analysis and visualization.\n",
    "\n",
    "8. **SAS**: SAS (Statistical Analysis System) is a software suite commonly used in industries like healthcare, finance, and government for advanced analytics and statistical modeling.\n",
    "\n",
    "9. **Haskell**: Haskell is sometimes used in data science, particularly for tasks that require functional programming and a strong type system.\n",
    "\n",
    "10. **JavaScript**: JavaScript, often with libraries like D3.js or Chart.js, is used for creating interactive data visualizations and web-based data applications.\n",
    "\n",
    "11. **Ruby**: While not as common as Python or R, Ruby can be used for data analysis and visualization with libraries like Rubyvis and Numo::NArray.\n",
    "\n",
    "12. **Perl**: Perl has a history of use in text processing and data manipulation tasks. It's still used in some data science workflows, especially for tasks involving regular expressions.\n"
   ]
  },
  {
   "cell_type": "markdown",
   "id": "02e880a8",
   "metadata": {},
   "source": [
    "### Some of the commonly used libraries used by Data Scientists include:\n",
    "\n",
    "Data scientists rely on a wide range of libraries and frameworks to perform various data analysis, machine learning, and data visualization tasks. Here are some of the commonly used libraries and packages in the field of data science:\n",
    "\n",
    "1. **NumPy**: NumPy is a fundamental library for numerical and array operations in Python. It provides support for multi-dimensional arrays and matrices, along with a wide range of mathematical functions.\n",
    "\n",
    "2. **pandas**: pandas is a powerful data manipulation and analysis library for Python. It offers data structures like DataFrames and Series, making it easy to clean, transform, and explore data.\n",
    "\n",
    "3. **scikit-learn**: scikit-learn is a popular machine learning library for Python. It provides a wide variety of machine learning algorithms, tools for model evaluation, and data preprocessing techniques.\n",
    "\n",
    "4. **TensorFlow**: TensorFlow is an open-source machine learning framework developed by Google. It's particularly well-suited for deep learning tasks and neural network development.\n",
    "\n",
    "5. **PyTorch**: PyTorch is another deep learning framework that's gained popularity due to its flexibility and dynamic computation graph. It's widely used for research and development in deep learning.\n",
    "\n",
    "6. **Matplotlib**: Matplotlib is a Python library for creating static, animated, or interactive visualizations. It's commonly used for data visualization and plotting.\n",
    "\n",
    "7. **Seaborn**: Seaborn is built on top of Matplotlib and provides a high-level interface for creating attractive and informative statistical graphics.\n",
    "\n",
    "8. **ggplot2**: ggplot2 is an R package for creating elegant and customized data visualizations based on the Grammar of Graphics principles.\n",
    "\n",
    "9. **Plotly**: Plotly is a versatile Python and JavaScript library for creating interactive and web-based visualizations, including interactive charts and dashboards.\n",
    "\n",
    "10. **Statsmodels**: Statsmodels is a Python library for estimating and interpreting statistical models. It's often used for linear and non-linear regression, hypothesis testing, and time series analysis.\n",
    "\n",
    "11. **NLTK (Natural Language Toolkit)**: NLTK is a Python library for natural language processing tasks, including tokenization, text classification, and sentiment analysis.\n",
    "\n",
    "12. **spaCy**: spaCy is another Python library for natural language processing, with a focus on efficient and production-ready text processing pipelines.\n",
    "\n",
    "13. **OpenCV**: OpenCV (Open Source Computer Vision Library) is a popular library for computer vision tasks, including image and video processing, object detection, and image recognition.\n",
    "\n",
    "14. **XGBoost**: XGBoost is a scalable and efficient gradient boosting library that's widely used in machine learning competitions and predictive modeling tasks.\n",
    "\n",
    "15. **LightGBM**: LightGBM is another gradient boosting framework that's known for its speed and efficiency, making it suitable for large-scale datasets.\n",
    "\n",
    "16. **D3.js**: D3.js is a JavaScript library for creating interactive data visualizations in web browsers. It's often used for custom and dynamic data visualizations.\n",
    "\n",
    "17. **Beautiful Soup**: Beautiful Soup is a Python library used for web scraping and parsing HTML and XML documents.\n",
    "\n",
    "18. **SQLAlchemy**: SQLAlchemy is a Python library for working with SQL databases, providing an Object-Relational Mapping (ORM) interface for database interaction.\n",
    "\n",
    "19. **Hadoop and Spark Libraries**: For big data processing, data scientists often use libraries associated with Apache Hadoop (e.g., HDFS, MapReduce) and Apache Spark (e.g., Spark MLlib)."
   ]
  },
  {
   "cell_type": "markdown",
   "id": "8791e7af",
   "metadata": {},
   "source": [
    "### Data Science Tools:\n",
    "\n",
    "Data science involves a wide range of tools and software to perform data analysis, machine learning, data visualization, and other tasks. Here are some of the essential data science tools commonly used by data scientists:\n",
    "\n",
    "1. **Jupyter Notebook**: Jupyter Notebook is an open-source web application that allows data scientists to create and share documents containing live code, equations, visualizations, and narrative text. It's widely used for data exploration and analysis.\n",
    "\n",
    "2. **RStudio**: RStudio is an integrated development environment (IDE) for the R programming language. It provides a user-friendly interface for data analysis, visualization, and reporting.\n",
    "\n",
    "3. **Visual Studio Code (VSCode)**: VSCode is a popular, free, and open-source code editor that can be customized with extensions for various data science tasks. It's versatile and supports multiple programming languages.\n",
    "\n",
    "4. **PyCharm**: PyCharm is a Python-specific integrated development environment (IDE) that's well-suited for data science projects. It offers features like code completion, debugging, and project management.\n",
    "\n",
    "5. **Spyder**: Spyder is an open-source scientific integrated development environment designed for data science and scientific computing in Python. It provides a MATLAB-like interface for data analysis.\n",
    "\n",
    "6. **RapidMiner**: RapidMiner is a data science platform that offers tools for data preparation, machine learning, and predictive modeling through a user-friendly graphical interface.\n",
    "\n",
    "7. **KNIME**: KNIME is an open-source platform for data analytics, reporting, and integration. It allows users to build data pipelines and perform data transformation, analysis, and visualization.\n",
    "\n",
    "8. **Tableau**: Tableau is a powerful data visualization and business intelligence tool that allows data scientists to create interactive and shareable dashboards and reports.\n",
    "\n",
    "9. **Power BI**: Microsoft Power BI is another business intelligence tool that helps data scientists and analysts create interactive visualizations and reports from various data sources.\n",
    "\n",
    "10. **SAS**: SAS (Statistical Analysis System) is a comprehensive software suite for advanced analytics, statistics, and data management. It's widely used in industries like healthcare, finance, and government.\n",
    "\n",
    "11. **Apache Hadoop**: Hadoop is an open-source framework for distributed storage and processing of large datasets. It's often used in big data applications and can be paired with tools like HDFS, MapReduce, and Hive.\n",
    "\n",
    "12. **Apache Spark**: Apache Spark is a fast and versatile big data processing framework. It's suitable for batch processing, streaming data, machine learning, and graph processing.\n",
    "\n",
    "13. **Databricks**: Databricks is a cloud-based platform that simplifies data engineering, data science, and machine learning tasks with a collaborative and integrated workspace.\n",
    "\n",
    "14. **Google Colab**: Google Colab is a free cloud-based Jupyter notebook environment that provides access to GPU and TPU resources. It's often used for machine learning and deep learning experiments.\n",
    "\n",
    "15. **IBM Watson Studio**: IBM Watson Studio is a cloud-based data science and machine learning platform that offers tools for data preparation, model development, and deployment.\n",
    "\n",
    "16. **Microsoft Azure Machine Learning**: Azure Machine Learning is a cloud-based service for building, training, and deploying machine learning models on Microsoft Azure.\n",
    "\n",
    "17. **Amazon SageMaker**: SageMaker is a machine learning service provided by Amazon Web Services (AWS) that simplifies the process of building, training, and deploying machine learning models.\n",
    "\n",
    "18. **DataRobot**: DataRobot is an automated machine learning platform that helps data scientists and organizations quickly build and deploy machine learning models.\n"
   ]
  },
  {
   "cell_type": "markdown",
   "id": "c94af1d1",
   "metadata": {},
   "source": [
    "### Below are a few examples of evaluating arithmetic expressions in Python:\n",
    "\n",
    "\n",
    "1. **Using Python's Built-in `eval` function:**\n",
    "\n",
    "   ```python\n",
    "   expression = \"3 + 5 * 2\"\n",
    "   result = eval(expression)\n",
    "   print(result)  # Output: 13\n",
    "   ```\n",
    "\n",
    "   The `eval` function can evaluate simple arithmetic expressions from strings.\n",
    "\n",
    "2. **Using the `sympy` Library (Symbolic Mathematics):**\n",
    "\n",
    "   ```python\n",
    "   from sympy import *\n",
    "\n",
    "   x = symbols('x')\n",
    "   expression = 3 * x + 2\n",
    "   result = expression.subs(x, 5)\n",
    "   print(result)  # Output: 17\n",
    "   ```\n",
    "\n",
    "   The `sympy` library allows you to work with symbolic mathematics, making it suitable for more complex expressions and symbolic manipulation.\n",
    "\n",
    "3. **Using the `numpy` Library (Numeric Computing):**\n",
    "\n",
    "   ```python\n",
    "   import numpy as np\n",
    "\n",
    "   expression = \"3 * sin(0.5)\"\n",
    "   result = eval(expression, {\"sin\": np.sin})\n",
    "   print(result)  # Output: 1.4999999999999998\n",
    "   ```\n",
    "\n",
    "   You can use `numpy` to evaluate mathematical functions within expressions.\n",
    "\n",
    "4. **Using Third-party Libraries like `numexpr`:**\n",
    "\n",
    "   ```python\n",
    "   import numexpr as ne\n",
    "\n",
    "   expression = \"3 * (a + b)\"\n",
    "   a, b = 2, 4\n",
    "   result = ne.evaluate(expression)\n",
    "   print(result)  # Output: 18\n",
    "   ```\n",
    "\n",
    "   The `numexpr` library is designed for fast numerical expression evaluation, especially for large arrays of data.\n",
    "\n",
    "5. **Using Manual Parsing (Basic):**\n",
    "\n",
    "   ```python\n",
    "   def evaluate_expression(expression):\n",
    "       try:\n",
    "           return eval(expression)\n",
    "       except Exception as e:\n",
    "           return str(e)\n",
    "\n",
    "   expression = \"3 + 5 * 2\"\n",
    "   result = evaluate_expression(expression)\n",
    "   print(result)  # Output: 13\n",
    "   ```\n",
    "\n",
    "   Here, we define a custom function that uses `eval` and handles exceptions.\n",
    "\n",
    "6. **Using the `eval` Function with a Dictionary (for safety):**\n",
    "\n",
    "   ```python\n",
    "   expression = \"3 + 5 * 2\"\n",
    "   allowed_functions = {\"__builtins__\": None}\n",
    "   result = eval(expression, allowed_functions)\n",
    "   print(result)  # Output: 13\n",
    "   ```\n",
    "\n",
    "   To enhance security when using `eval`, you can restrict the available functions and variables by passing a dictionary to it.\n"
   ]
  },
  {
   "cell_type": "markdown",
   "id": "44da7978",
   "metadata": {},
   "source": [
    "### code cell to multiply and add numbers:"
   ]
  },
  {
   "cell_type": "code",
   "execution_count": 1,
   "id": "e8f9ac9c",
   "metadata": {},
   "outputs": [
    {
     "data": {
      "text/plain": [
       "17"
      ]
     },
     "execution_count": 1,
     "metadata": {},
     "output_type": "execute_result"
    }
   ],
   "source": [
    "(3*4)+5"
   ]
  },
  {
   "cell_type": "markdown",
   "id": "86588eac",
   "metadata": {},
   "source": [
    "### code cell to convert minutes to hours:"
   ]
  },
  {
   "cell_type": "code",
   "execution_count": 2,
   "id": "e0e013a4",
   "metadata": {},
   "outputs": [
    {
     "name": "stdout",
     "output_type": "stream",
     "text": [
      "120 minutes is equal to 2.0 hours\n"
     ]
    }
   ],
   "source": [
    "# Input: Number of minutes\n",
    "minutes = 120  # Change this value to the number of minutes you want to convert\n",
    "\n",
    "# Convert minutes to hours\n",
    "hours = minutes / 60\n",
    "\n",
    "# Display the result\n",
    "print(f\"{minutes} minutes is equal to {hours} hours\")\n"
   ]
  },
  {
   "cell_type": "markdown",
   "id": "6d88b6cb",
   "metadata": {},
   "source": [
    "## Author: Shivam Chaudhary"
   ]
  }
 ],
 "metadata": {
  "kernelspec": {
   "display_name": "Python 3 (ipykernel)",
   "language": "python",
   "name": "python3"
  },
  "language_info": {
   "codemirror_mode": {
    "name": "ipython",
    "version": 3
   },
   "file_extension": ".py",
   "mimetype": "text/x-python",
   "name": "python",
   "nbconvert_exporter": "python",
   "pygments_lexer": "ipython3",
   "version": "3.10.9"
  }
 },
 "nbformat": 4,
 "nbformat_minor": 5
}
